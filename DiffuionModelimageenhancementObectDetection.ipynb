{
  "nbformat": 4,
  "nbformat_minor": 0,
  "metadata": {
    "colab": {
      "private_outputs": true,
      "provenance": [],
      "gpuType": "V28",
      "authorship_tag": "ABX9TyP4yR4DQjIr2xZHcuSbfxSv",
      "include_colab_link": true
    },
    "kernelspec": {
      "name": "python3",
      "display_name": "Python 3"
    },
    "language_info": {
      "name": "python"
    },
    "accelerator": "TPU"
  },
  "cells": [
    {
      "cell_type": "markdown",
      "metadata": {
        "id": "view-in-github",
        "colab_type": "text"
      },
      "source": [
        "<a href=\"https://colab.research.google.com/github/zrghassabi/Diffusion-Models/blob/main/DiffuionModelimageenhancementObectDetection.ipynb\" target=\"_parent\"><img src=\"https://colab.research.google.com/assets/colab-badge.svg\" alt=\"Open In Colab\"/></a>"
      ]
    },
    {
      "cell_type": "code",
      "execution_count": null,
      "metadata": {
        "id": "9uUJfdMKmi2L"
      },
      "outputs": [],
      "source": [
        "import torch\n",
        "from torch.utils.data import Dataset, DataLoader\n",
        "import torchvision.transforms as transforms\n",
        "import matplotlib.pyplot as plt\n",
        "import numpy as np\n",
        "import torch.optim as optim\n",
        "\n",
        "class SyntheticDataset(Dataset):\n",
        "    def __init__(self, size, img_size, num_classes):\n",
        "        self.size = size\n",
        "        self.img_size = img_size\n",
        "        self.num_classes = num_classes  # Add this if it's necessary for your dataset\n",
        "\n",
        "    def __len__(self):\n",
        "        return self.size\n",
        "\n",
        "    def __getitem__(self, idx):\n",
        "        return torch.randn(3, self.img_size, self.img_size)\n",
        "\n",
        "\n",
        "# Define the synthetic dataset and dataloader\n",
        "dataset = SyntheticDataset(size=1000, img_size=64, num_classes=10)\n",
        "dataloader = DataLoader(dataset, batch_size=32, shuffle=True)\n"
      ]
    },
    {
      "cell_type": "code",
      "source": [
        "import torch\n",
        "import torch.nn as nn\n",
        "\n",
        "# Step 1: Define the U-Net Model\n",
        "class UNet(nn.Module):\n",
        "    def __init__(self, in_channels, out_channels, features=[64, 128, 256, 512]):\n",
        "        super(UNet, self).__init__()\n",
        "        self.encoder = nn.ModuleList()\n",
        "        self.decoder = nn.ModuleList()\n",
        "        self.pool = nn.MaxPool2d(kernel_size=2, stride=2)\n",
        "\n",
        "        # Encoder\n",
        "        for feature in features:\n",
        "            self.encoder.append(self._block(in_channels, feature))\n",
        "            in_channels = feature\n",
        "\n",
        "        # Bottleneck\n",
        "        self.bottleneck = self._block(features[-1], features[-1] * 2)\n",
        "\n",
        "        # Decoder\n",
        "        for feature in reversed(features):\n",
        "            self.decoder.append(\n",
        "                nn.ConvTranspose2d(feature * 2, feature, kernel_size=2, stride=2)\n",
        "            )\n",
        "            self.decoder.append(self._block(feature * 2, feature))\n",
        "\n",
        "        # Final layer\n",
        "        self.final_conv = nn.Conv2d(features[0], out_channels, kernel_size=1)\n",
        "\n",
        "    def forward(self, x):\n",
        "        skip_connections = []\n",
        "        for enc in self.encoder:\n",
        "            x = enc(x)\n",
        "            skip_connections.append(x)\n",
        "            x = self.pool(x)\n",
        "\n",
        "        x = self.bottleneck(x)\n",
        "        skip_connections = skip_connections[::-1]\n",
        "\n",
        "        for idx in range(0, len(self.decoder), 2):\n",
        "            x = self.decoder[idx](x)\n",
        "            skip_connection = skip_connections[idx // 2]\n",
        "            if x.shape != skip_connection.shape:\n",
        "                x = F.interpolate(x, size=skip_connection.shape[2:])\n",
        "            concat_skip = torch.cat((skip_connection, x), dim=1)\n",
        "            x = self.decoder[idx + 1](concat_skip)\n",
        "\n",
        "        return self.final_conv(x)\n",
        "\n",
        "    def _block(self, in_channels, out_channels):\n",
        "        return nn.Sequential(\n",
        "            nn.Conv2d(in_channels, out_channels, kernel_size=3, padding=1),\n",
        "            nn.ReLU(inplace=True),\n",
        "            nn.Conv2d(out_channels, out_channels, kernel_size=3, padding=1),\n",
        "            nn.ReLU(inplace=True),\n",
        "        )\n"
      ],
      "metadata": {
        "id": "FSu2EZo5mx8m"
      },
      "execution_count": null,
      "outputs": []
    },
    {
      "cell_type": "code",
      "source": [
        "# Step 3: Define the Diffusion Process\n",
        "class DiffusionModel(nn.Module):\n",
        "    def __init__(self, unet):\n",
        "        super(DiffusionModel, self).__init__()\n",
        "        self.unet = unet\n",
        "\n",
        "    def forward(self, x, t):\n",
        "        t = t.unsqueeze(1).unsqueeze(2).unsqueeze(3).repeat(1, 1, x.size(2), x.size(3))  # Match t to x dimensions\n",
        "        return self.unet(torch.cat([x, t], dim=1))\n",
        "\n",
        "def forward_diffusion(x_0, t, noise_schedule):\n",
        "    noise = torch.randn_like(x_0)\n",
        "    t = t.long()  # Convert to long type\n",
        "    alpha_t = noise_schedule[t].to(x_0.device).unsqueeze(1).unsqueeze(2).unsqueeze(3)\n",
        "    return torch.sqrt(alpha_t) * x_0 + torch.sqrt(1 - alpha_t) * noise\n",
        "\n",
        "def reverse_diffusion(x_t, t, model, noise_schedule):\n",
        "    t = t.long()  # Ensure t is long\n",
        "    beta_t = 1 - noise_schedule[t].to(x_t.device).unsqueeze(1).unsqueeze(2).unsqueeze(3)\n",
        "    predicted_noise = model(x_t, t)\n",
        "    return (x_t - beta_t * predicted_noise) / torch.sqrt(noise_schedule[t].to(x_t.device).unsqueeze(1).unsqueeze(2).unsqueeze(3))\n",
        "\n"
      ],
      "metadata": {
        "id": "QgmvmkrmnRcC"
      },
      "execution_count": null,
      "outputs": []
    },
    {
      "cell_type": "code",
      "source": [
        "# Function to visualize images\n",
        "def visualize_images(inputs, targets, predictions, num_images=5):\n",
        "    fig, axs = plt.subplots(num_images, 3, figsize=(12, 4 * num_images))\n",
        "    for i in range(num_images):\n",
        "        axs[i, 0].imshow(inputs[i].permute(1, 2, 0).cpu().numpy())\n",
        "        axs[i, 0].set_title(\"Input Image\")\n",
        "        axs[i, 0].axis('off')\n",
        "\n",
        "        axs[i, 1].imshow(targets[i].permute(1, 2, 0).cpu().numpy())\n",
        "        axs[i, 1].set_title(\"Target Image\")\n",
        "        axs[i, 1].axis('off')\n",
        "\n",
        "        axs[i, 2].imshow(predictions[i].permute(1, 2, 0).cpu().numpy())\n",
        "        axs[i, 2].set_title(\"Predicted Image\")\n",
        "        axs[i, 2].axis('off')\n",
        "\n",
        "    plt.show()\n",
        "\n",
        "# Updated training loop with visualization\n",
        "def train_model(model, dataloader, optimizer, num_epochs, noise_schedule):\n",
        "    model.train()\n",
        "    criterion = nn.MSELoss()\n",
        "\n",
        "    for epoch in range(num_epochs):\n",
        "        for i, x_0 in enumerate(dataloader):\n",
        "            x_0 = x_0.to(device)\n",
        "            t = torch.randint(0, len(noise_schedule), (x_0.size(0),)).to(device)\n",
        "            x_t = forward_diffusion(x_0, t, noise_schedule)\n",
        "            predicted_noise = model(x_t, t)\n",
        "\n",
        "            # Compute target noise\n",
        "            noise = (x_t - torch.sqrt(noise_schedule[t.long()]).to(device).unsqueeze(1).unsqueeze(2).unsqueeze(3) * x_0) / torch.sqrt(1 - noise_schedule[t.long()]).to(device).unsqueeze(1).unsqueeze(2).unsqueeze(3)\n",
        "\n",
        "            # Calculate loss\n",
        "            loss = criterion(predicted_noise, noise)\n",
        "            optimizer.zero_grad()\n",
        "            loss.backward()\n",
        "            optimizer.step()\n",
        "\n",
        "            if i % 10 == 0:  # Visualize every 10 batches\n",
        "                with torch.no_grad():\n",
        "                    # Take a batch of images for visualization\n",
        "                    sample_inputs = x_0[:5].cpu()\n",
        "                    sample_targets = noise[:5].cpu()\n",
        "                    sample_predictions = predicted_noise[:5].cpu()\n",
        "\n",
        "                    # Visualize images\n",
        "                    visualize_images(sample_inputs, sample_targets, sample_predictions)\n",
        "\n",
        "            print(f'Epoch [{epoch+1}/{num_epochs}], Batch [{i+1}/{len(dataloader)}], Loss: {loss.item():.4f}')\n",
        "\n",
        "# Example usage\n",
        "device = torch.device(\"cuda\" if torch.cuda.is_available() else \"cpu\")\n",
        "unet = UNet(in_channels=4, out_channels=3).to(device)  # in_channels is 4 because we concatenate t\n",
        "diffusion_model = DiffusionModel(unet).to(device)\n",
        "optimizer = optim.Adam(diffusion_model.parameters(), lr=1e-4)\n",
        "noise_schedule = torch.linspace(0.0001, 0.02, 1000).to(device)  # Example noise schedule\n",
        "\n",
        "# Define the synthetic dataset and dataloader\n",
        "dataset = SyntheticDataset(size=1000, img_size=64, num_classes=10)\n",
        "dataloader = DataLoader(dataset, batch_size=32, shuffle=True)\n",
        "\n",
        "# Train the model\n",
        "train_model(diffusion_model, dataloader, optimizer, num_epochs=10, noise_schedule=noise_schedule)"
      ],
      "metadata": {
        "id": "Zx8kAHdbpFXA"
      },
      "execution_count": null,
      "outputs": []
    },
    {
      "cell_type": "code",
      "source": [
        "# Save the model state dict\n",
        "torch.save(diffusion_model.state_dict(), 'diffusion_model.pth')\n",
        "\n",
        "# Load the model state dict\n",
        "loaded_unet = UNet(in_channels=4, out_channels=3).to(device)\n",
        "loaded_diffusion_model = DiffusionModel(loaded_unet).to(device)\n",
        "loaded_diffusion_model.load_state_dict(torch.load('diffusion_model.pth'))"
      ],
      "metadata": {
        "id": "M1Z0ygzWreDF"
      },
      "execution_count": null,
      "outputs": []
    },
    {
      "cell_type": "code",
      "source": [
        "# Check the current working directory\n",
        "!pwd"
      ],
      "metadata": {
        "id": "Cc0FhMtKnYEV"
      },
      "execution_count": null,
      "outputs": []
    },
    {
      "cell_type": "code",
      "source": [
        "# List the files in the current directory to verify the model is saved\n",
        "!ls -l"
      ],
      "metadata": {
        "id": "CBp2as_rnfUl"
      },
      "execution_count": null,
      "outputs": []
    },
    {
      "cell_type": "code",
      "source": [
        "import os\n",
        "print(os.listdir('.'))  # List files in the current directory"
      ],
      "metadata": {
        "id": "-_7cR2rN6GyF"
      },
      "execution_count": null,
      "outputs": []
    },
    {
      "cell_type": "code",
      "source": [
        "# Instantiate the UNet and DiffusionModel\n",
        "unet = UNet(in_channels=4, out_channels=3)\n",
        "diffusion_model = DiffusionModel(unet)\n",
        "\n",
        "# Load the model state dict\n",
        "diffusion_model.load_state_dict(torch.load('diffusion_model.pth'))\n",
        "\n",
        "# Set the model to evaluation mode\n",
        "diffusion_model.eval()"
      ],
      "metadata": {
        "id": "ujcukSKy5cQC"
      },
      "execution_count": null,
      "outputs": []
    },
    {
      "cell_type": "code",
      "source": [
        "# Save only the UNet state dict\n",
        "torch.save(unet.state_dict(), 'unet_model.pth')"
      ],
      "metadata": {
        "id": "DYzsOeyA7Alh"
      },
      "execution_count": null,
      "outputs": []
    },
    {
      "cell_type": "code",
      "source": [
        "# Instantiate the UNet\n",
        "unet = UNet(in_channels=4, out_channels=3)\n",
        "\n",
        "# Load the UNet state dict\n",
        "unet.load_state_dict(torch.load('unet_model.pth'))\n",
        "\n",
        "# Set the model to evaluation mode\n",
        "unet.eval()"
      ],
      "metadata": {
        "id": "VO9hSkIv7B04"
      },
      "execution_count": null,
      "outputs": []
    },
    {
      "cell_type": "code",
      "source": [
        "import torchvision.transforms as transforms\n",
        "from torchvision import models\n",
        "\n",
        "# Load a pre-trained ResNet model\n",
        "detection_model = models.resnet18(pretrained=True)\n",
        "detection_model.fc = nn.Linear(detection_model.fc.in_features, 1000)  # Modify the final layer for your needs\n",
        "detection_model.to(device)\n",
        "detection_model.eval()\n",
        "\n",
        "# Define image transformations\n",
        "transform = transforms.Compose([\n",
        "    transforms.Resize((224, 224)),\n",
        "    transforms.ToTensor(),\n",
        "    transforms.Normalize(mean=[0.485, 0.456, 0.406], std=[0.229, 0.224, 0.225]),\n",
        "])\n"
      ],
      "metadata": {
        "id": "9BfvILKy7RWK"
      },
      "execution_count": null,
      "outputs": []
    },
    {
      "cell_type": "code",
      "source": [
        "from google.colab import files\n",
        "from PIL import Image\n",
        "import numpy as np\n",
        "import torch\n",
        "import torchvision.transforms as transforms\n",
        "\n",
        "# Upload the image file\n",
        "uploaded = files.upload()\n",
        "image_path = list(uploaded.keys())[0]\n",
        "\n",
        "# Define the transformation\n",
        "transform = transforms.Compose([\n",
        "    transforms.Resize((64, 64)),  # Adjust based on your model's input size\n",
        "    transforms.ToTensor(),\n",
        "    transforms.Normalize(mean=[0.485, 0.456, 0.406], std=[0.229, 0.224, 0.225])\n",
        "])\n",
        "\n",
        "# Load the pre-trained models\n",
        "device = torch.device(\"cuda\" if torch.cuda.is_available() else \"cpu\")\n",
        "\n",
        "# Assume UNet and DiffusionModel classes are defined\n",
        "# and the models are instantiated and loaded as per previous instructions\n",
        "\n",
        "model = UNet(in_channels=4, out_channels=3).to(device)\n",
        "diffusion_model = DiffusionModel(model).to(device)\n",
        "diffusion_model.load_state_dict(torch.load('diffusion_model.pth'))\n",
        "diffusion_model.eval()\n",
        "\n",
        "# Assume detection_model is defined and loaded\n",
        "# detection_model = ... (your object detection model)\n",
        "\n",
        "def enhance_image(image_path, t=0):\n",
        "    # Load and preprocess the image\n",
        "    image = Image.open(image_path).convert('RGB')\n",
        "    image = transform(image).unsqueeze(0).to(device)\n",
        "\n",
        "    # Enhance the image using the diffusion model\n",
        "    with torch.no_grad():\n",
        "        t_tensor = torch.tensor([t], dtype=torch.float32).to(device)\n",
        "        enhanced_image = diffusion_model(image, t_tensor)\n",
        "\n",
        "    # Convert the enhanced image back to PIL format\n",
        "    enhanced_image = enhanced_image.squeeze().cpu().numpy().transpose(1, 2, 0)\n",
        "    enhanced_image = (enhanced_image * 255).astype(np.uint8)\n",
        "    return Image.fromarray(enhanced_image)\n",
        "\n",
        "def detect_objects(image):\n",
        "    # Apply the same transformations as before\n",
        "    image = transform(image).unsqueeze(0).to(device)\n",
        "\n",
        "    # Perform object detection\n",
        "    with torch.no_grad():\n",
        "        outputs = detection_model(image)\n",
        "\n",
        "    # Process the outputs as needed\n",
        "    return outputs\n",
        "\n",
        "# Enhance the image\n",
        "enhanced_image = enhance_image(image_path)\n",
        "enhanced_image.show()  # Display the enhanced image\n",
        "\n",
        "# Perform object detection\n",
        "outputs = detect_objects(enhanced_image)\n",
        "\n",
        "# Process the outputs (e.g., print the top 5 predictions)\n",
        "_, preds = torch.max(outputs, 1)\n",
        "print('Predicted class:', preds.item())\n"
      ],
      "metadata": {
        "id": "Pq93yxG39nhY"
      },
      "execution_count": null,
      "outputs": []
    },
    {
      "cell_type": "code",
      "source": [
        "# Enhance the image\n",
        "enhanced_image = enhance_image(image_path)\n",
        "\n",
        "# Save the enhanced image\n",
        "enhanced_image_path = \"enhanced_image.jpg\"\n",
        "enhanced_image.save(enhanced_image_path)\n",
        "\n",
        "# Display the enhanced image\n",
        "enhanced_image.show()\n"
      ],
      "metadata": {
        "id": "3FAG_Png96IF"
      },
      "execution_count": null,
      "outputs": []
    },
    {
      "cell_type": "code",
      "source": [
        "from google.colab import files\n",
        "files.download(enhanced_image_path)"
      ],
      "metadata": {
        "id": "JXblV3oD_ZMn"
      },
      "execution_count": null,
      "outputs": []
    },
    {
      "cell_type": "code",
      "source": [
        "import os\n",
        "print(os.listdir())  # List all files in the current directory"
      ],
      "metadata": {
        "id": "PD2m2lgA_bW-"
      },
      "execution_count": null,
      "outputs": []
    }
  ]
}